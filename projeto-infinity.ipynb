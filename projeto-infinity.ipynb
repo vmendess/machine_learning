{
 "cells": [
  {
   "cell_type": "markdown",
   "id": "3ff74388",
   "metadata": {},
   "source": [
    "# Análise de Vendas - E-commerce (Amazon) EXECUTE ESSE PROJETO NO GOOGLE COLAB\n",
    "\n",
    "Este notebook (Google Colab) conduz uma análise de dados de vendas de e-commerce com base em um conjunto de dados da Amazon, utilizando técnicas de visualização, tratamento de dados e modelagem preditiva.\n",
    "\n",
    "## Etapas do Notebook\n",
    "\n",
    "1. **Instalação de pacotes**: Instalação dos pacotes `kagglehub` e `openpyxl` necessários para baixar e ler os dados.\n",
    "2. **Download do dataset**: Utilização da API do KaggleHub para baixar o dataset de vendas.\n",
    "3. **Importações e exploração inicial de arquivos**: Importação de bibliotecas padrão e listagem dos arquivos disponíveis.\n",
    "4. **Leitura dos dados**: Leitura do arquivo CSV com as vendas da Amazon.\n",
    "5. **Dimensão dos dados**: Verifica número de linhas e colunas.\n",
    "6. **Informações do dataframe**: Estrutura e tipos de dados.\n",
    "7. **Tipos das colunas**: Lista os tipos de dados das colunas.\n",
    "8. **Estatísticas numéricas**: Resumo estatístico de colunas numéricas.\n",
    "9. **Estatísticas categóricas**: Resumo de colunas categóricas.\n",
    "10. **Valores ausentes**: Quantificação de dados faltantes.\n",
    "11. **Conversão da data**: Transforma a coluna 'Date' para o tipo datetime.\n",
    "12. **Extração de componentes da data**: Extrai ano, mês, dia e dia da semana da data.\n",
    "13. **Teste ANOVA**: Verifica se há diferença significativa nas vendas entre categorias.\n",
    "14. **Criação de variáveis preditoras**: Define as variáveis para o modelo e aplica codificação one-hot.\n",
    "15. **Divisão treino/teste**: Separação dos dados para treino e teste.\n",
    "16. **Tratamento de dados ausentes**: Limpeza e preenchimento de dados faltantes nas colunas principais.\n",
    "17. **Visualização 1 - Tendência de vendas por mês**.\n",
    "18. **Visualização 2 - Distribuição do valor de vendas (Amount)**.\n",
    "19. **Visualização 3 - Boxplot de vendas por categoria**.\n",
    "20. **Visualização 4 - Correlação entre variáveis numéricas**.\n",
    "21. **Modelo de Regressão Linear**: Treinamento, previsão e avaliação com métricas de erro.\n",
    "22. **Modelo Random Forest**: Treinamento e avaliação com Random Forest.\n",
    "23. **Random Forest com transformação logarítmica**: Aplica log nos dados para melhorar performance.\n",
    "24. **Random Forest com remoção de outliers**: Remove outliers no target e reavalia o modelo.\n",
    "25. **Gradient Boosting**: Modelo de regressão com Gradient Boosting e avaliação.\n",
    "26. **Comparação de modelos**: Compila métricas MAE, RMSE e R² de todos os modelos.\n",
    "27. **Importância de variáveis**: Mostra as 10 variáveis mais relevantes no modelo Random Forest."
   ]
  },
  {
   "cell_type": "code",
   "execution_count": null,
   "id": "49b3bf23",
   "metadata": {},
   "outputs": [],
   "source": [
    "!pip install kagglehub --quiet\n",
    "!pip install openpyxl --quiet"
   ]
  },
  {
   "cell_type": "code",
   "execution_count": null,
   "id": "c706f72d",
   "metadata": {},
   "outputs": [],
   "source": [
    "import kagglehub\n",
    "\n",
    "# Baixa o dataset\n",
    "path = kagglehub.dataset_download(\"thedevastator/unlock-profits-with-e-commerce-sales-data\")\n",
    "print(\"Caminho:\", path)"
   ]
  },
  {
   "cell_type": "code",
   "execution_count": null,
   "id": "c5a0a959",
   "metadata": {},
   "outputs": [],
   "source": [
    "import numpy as np\n",
    "import pandas as pd\n",
    "import matplotlib.pyplot as plt\n",
    "import seaborn as sns\n",
    "import os\n",
    "import warnings\n",
    "warnings.filterwarnings(\"ignore\")\n",
    "\n",
    "# Ver arquivos disponíveis\n",
    "for dirname, _, filenames in os.walk(path):\n",
    "    for filename in filenames:\n",
    "        print(os.path.join(dirname, filename))"
   ]
  },
  {
   "cell_type": "code",
   "execution_count": null,
   "id": "aefa1579",
   "metadata": {},
   "outputs": [],
   "source": [
    "df = pd.read_csv(os.path.join(path, \"Amazon Sale Report.csv\"))\n",
    "df.head()"
   ]
  },
  {
   "cell_type": "code",
   "execution_count": null,
   "id": "de81b69b",
   "metadata": {},
   "outputs": [],
   "source": [
    "df.shape"
   ]
  },
  {
   "cell_type": "code",
   "execution_count": null,
   "id": "ab07c8b1",
   "metadata": {},
   "outputs": [],
   "source": [
    "df.info()"
   ]
  },
  {
   "cell_type": "code",
   "execution_count": null,
   "id": "9149c90a",
   "metadata": {},
   "outputs": [],
   "source": [
    "df.dtypes"
   ]
  },
  {
   "cell_type": "code",
   "execution_count": null,
   "id": "405e1d32",
   "metadata": {},
   "outputs": [],
   "source": [
    "df.describe()"
   ]
  },
  {
   "cell_type": "code",
   "execution_count": null,
   "id": "a6294769",
   "metadata": {},
   "outputs": [],
   "source": [
    "df.describe(include='O')"
   ]
  },
  {
   "cell_type": "code",
   "execution_count": null,
   "id": "727b89f4",
   "metadata": {},
   "outputs": [],
   "source": [
    "df.isnull().sum()"
   ]
  },
  {
   "cell_type": "code",
   "execution_count": null,
   "id": "048c158b",
   "metadata": {},
   "outputs": [],
   "source": [
    "df['Date'] = pd.to_datetime(df['Date'], format='%m-%d-%y', errors='coerce')"
   ]
  },
  {
   "cell_type": "code",
   "execution_count": null,
   "id": "966b126a",
   "metadata": {},
   "outputs": [],
   "source": [
    "df['year'] = df['Date'].dt.year\n",
    "df['month'] = df['Date'].dt.month\n",
    "df['day'] = df['Date'].dt.day\n",
    "df['weekday'] = df['Date'].dt.weekday\n",
    "df[['Date','year','month','day','weekday']].head()"
   ]
  },
  {
   "cell_type": "code",
   "execution_count": null,
   "id": "c1cd4fec",
   "metadata": {},
   "outputs": [],
   "source": [
    "from scipy.stats import f_oneway\n",
    "\n",
    "groups = [group['Amount'].values for _, group in df.groupby('Category')]\n",
    "f_stat, p_value = f_oneway(*groups)\n",
    "print(f\"ANOVA F={f_stat:.2f}, p-valor={p_value:.5f}\")\n",
    "if p_value < 0.05:\n",
    "    print(\"→ Diferenças significativas nas vendas entre categorias.\")\n",
    "else:\n",
    "    print(\"→ Nenhuma diferença significativa entre as médias.\")"
   ]
  },
  {
   "cell_type": "code",
   "execution_count": null,
   "id": "cc742ea4",
   "metadata": {},
   "outputs": [],
   "source": [
    "features = ['month', 'weekday', 'Qty', 'Category', 'Fulfilment', 'ship-service-level']\n",
    "X = df[features]\n",
    "y = df['Amount']\n",
    "X = pd.get_dummies(X, columns=['Category', 'Fulfilment', 'ship-service-level'], drop_first=True)\n",
    "print(f\"Shape final das features: {X.shape}\")"
   ]
  },
  {
   "cell_type": "code",
   "execution_count": null,
   "id": "a843a687",
   "metadata": {},
   "outputs": [],
   "source": [
    "from sklearn.model_selection import train_test_split\n",
    "\n",
    "X_train, X_test, y_train, y_test = train_test_split(X, y, test_size=0.2, random_state=42)\n",
    "print(f\"Treino: {X_train.shape}, Teste: {X_test.shape}\")"
   ]
  },
  {
   "cell_type": "code",
   "execution_count": null,
   "id": "4a2c6c3a",
   "metadata": {},
   "outputs": [],
   "source": [
    "print(df.isnull().sum())\n",
    "df = df.dropna(subset=['Amount', 'currency'])\n",
    "df['ship-city'] = df['ship-city'].fillna('Desconhecido')\n",
    "df['ship-state'] = df['ship-state'].fillna('Desconhecido')\n",
    "df['ship-postal-code'] = df['ship-postal-code'].fillna(0).astype(int)\n",
    "df['ship-country'] = df['ship-country'].fillna('Desconhecido')\n",
    "print(\"\\nApós tratamento:\")\n",
    "print(df.isnull().sum())"
   ]
  },
  {
   "cell_type": "code",
   "execution_count": null,
   "id": "9b68e8e9",
   "metadata": {},
   "outputs": [],
   "source": [
    "# Visualizações\n",
    "import matplotlib.pyplot as plt\n",
    "import seaborn as sns\n",
    "\n",
    "vendas_por_mes = df.groupby('month')['Amount'].sum()\n",
    "plt.figure(figsize=(8,4))\n",
    "plt.plot(vendas_por_mes.index, vendas_por_mes.values)\n",
    "plt.title('Total de Vendas por Mês')\n",
    "plt.xlabel('Mês')\n",
    "plt.ylabel('Valor Total (INR)')\n",
    "plt.xticks(range(1,13))\n",
    "plt.show()"
   ]
  },
  {
   "cell_type": "code",
   "execution_count": null,
   "id": "3054089c",
   "metadata": {},
   "outputs": [],
   "source": [
    "plt.figure(figsize=(6,4))\n",
    "sns.histplot(df['Amount'], bins=50, kde=True)\n",
    "plt.title('Distribuição do Valor de Venda')\n",
    "plt.xlabel('Amount')\n",
    "plt.show()"
   ]
  },
  {
   "cell_type": "code",
   "execution_count": null,
   "id": "dd2c7eb5",
   "metadata": {},
   "outputs": [],
   "source": [
    "plt.figure(figsize=(10,6))\n",
    "sns.boxplot(x='Category', y='Amount', data=df)\n",
    "plt.title('Boxplot de Vendas por Categoria')\n",
    "plt.xticks(rotation=45)\n",
    "plt.show()"
   ]
  },
  {
   "cell_type": "code",
   "execution_count": null,
   "id": "00df6034",
   "metadata": {},
   "outputs": [],
   "source": [
    "corr = df[['year','month','day','weekday','Qty','Amount']].corr()\n",
    "plt.figure(figsize=(6,5))\n",
    "sns.heatmap(corr, annot=True, fmt='.2f')\n",
    "plt.title('Mapa de Correlação')\n",
    "plt.show()"
   ]
  },
  {
   "cell_type": "code",
   "execution_count": null,
   "id": "9e73f72a",
   "metadata": {},
   "outputs": [],
   "source": [
    "# Modelagem: Regressão Linear\n",
    "from sklearn.linear_model import LinearRegression\n",
    "from sklearn.metrics import mean_absolute_error, mean_squared_error, r2_score\n",
    "\n",
    "X = pd.get_dummies(df[features], columns=['Category', 'Fulfilment', 'ship-service-level'], drop_first=True)\n",
    "X_train, X_test, y_train, y_test = train_test_split(X, y, test_size=0.2, random_state=42)\n",
    "modelo = LinearRegression()\n",
    "modelo.fit(X_train, y_train)\n",
    "y_pred = modelo.predict(X_test)\n",
    "mae = mean_absolute_error(y_test, y_pred)\n",
    "mse = mean_squared_error(y_test, y_pred)\n",
    "rmse = np.sqrt(mse)\n",
    "r2 = r2_score(y_test, y_pred)\n",
    "print(f\"MAE:  {mae:.2f}\\nRMSE: {rmse:.2f}\\nR²:   {r2:.2f}\")"
   ]
  },
  {
   "cell_type": "code",
   "execution_count": null,
   "id": "7d281c29",
   "metadata": {},
   "outputs": [],
   "source": [
    "from sklearn.ensemble import RandomForestRegressor\n",
    "rf = RandomForestRegressor(n_estimators=100, max_depth=10, random_state=42, n_jobs=-1)\n",
    "rf.fit(X_train, y_train)\n",
    "y_pred_rf = rf.predict(X_test)\n",
    "mae_rf  = mean_absolute_error(y_test, y_pred_rf)\n",
    "mse_rf  = mean_squared_error(y_test, y_pred_rf)\n",
    "rmse_rf = np.sqrt(mse_rf)\n",
    "r2_rf   = r2_score(y_test, y_pred_rf)\n",
    "print(f\"RF MAE:  {mae_rf:.2f}\\nRF RMSE: {rmse_rf:.2f}\\nRF R²:   {r2_rf:.2f}\")"
   ]
  },
  {
   "cell_type": "code",
   "execution_count": null,
   "id": "3120d27b",
   "metadata": {},
   "outputs": [],
   "source": [
    "y_train_log = np.log1p(y_train)\n",
    "y_test_log  = np.log1p(y_test)\n",
    "rf_log = RandomForestRegressor(n_estimators=100, max_depth=10, random_state=42, n_jobs=-1)\n",
    "rf_log.fit(X_train, y_train_log)\n",
    "y_pred_log = rf_log.predict(X_test)\n",
    "y_pred_orig = np.expm1(y_pred_log)\n",
    "mae_log = mean_absolute_error(y_test, y_pred_orig)\n",
    "rmse_log = np.sqrt(mean_squared_error(y_test, y_pred_orig))\n",
    "r2_log = r2_score(y_test, y_pred_orig)\n",
    "print(f\"RF+Log MAE:  {mae_log:.2f}\\nRF+Log RMSE: {rmse_log:.2f}\\nRF+Log R²:   {r2_log:.2f}\")"
   ]
  },
  {
   "cell_type": "code",
   "execution_count": null,
   "id": "05a0879c",
   "metadata": {},
   "outputs": [],
   "source": [
    "limite = df['Amount'].quantile(0.99)\n",
    "df_filtrado = df[df['Amount'] <= limite]\n",
    "Xf = pd.get_dummies(df_filtrado[features], columns=['Category','Fulfilment','ship-service-level'], drop_first=True)\n",
    "yf = df_filtrado['Amount']\n",
    "X_train_f, X_test_f, y_train_f, y_test_f = train_test_split(Xf, yf, test_size=0.2, random_state=42)\n",
    "rf_o = RandomForestRegressor(n_estimators=100, max_depth=10, random_state=42, n_jobs=-1)\n",
    "rf_o.fit(X_train_f, y_train_f)\n",
    "yp_o = rf_o.predict(X_test_f)\n",
    "mae_o = mean_absolute_error(y_test_f, yp_o)\n",
    "rmse_o = np.sqrt(mean_squared_error(y_test_f, yp_o))\n",
    "r2_o = r2_score(y_test_f, yp_o)\n",
    "print(f\"RF sem outliers MAE:  {mae_o:.2f}\\nRF sem outliers RMSE: {rmse_o:.2f}\\nRF sem outliers R²:   {r2_o:.2f}\")"
   ]
  },
  {
   "cell_type": "code",
   "execution_count": null,
   "id": "b44de249",
   "metadata": {},
   "outputs": [],
   "source": [
    "from sklearn.ensemble import GradientBoostingRegressor\n",
    "gb = GradientBoostingRegressor(n_estimators=100, learning_rate=0.1, max_depth=5, random_state=42)\n",
    "gb.fit(X_train_gb, y_train_gb)\n",
    "y_pred_gb = gb.predict(X_test_gb)\n",
    "mae_gb  = mean_absolute_error(y_test_gb, y_pred_gb)\n",
    "rmse_gb = np.sqrt(mean_squared_error(y_test_gb, y_pred_gb))\n",
    "r2_gb   = r2_score(y_test_gb, y_pred_gb)\n",
    "print(f\"GB MAE:  {mae_gb:.2f}\\nGB RMSE: {rmse_gb:.2f}\\nGB R²:   {r2_gb:.2f}\")"
   ]
  },
  {
   "cell_type": "code",
   "execution_count": null,
   "id": "050e3f0c",
   "metadata": {},
   "outputs": [],
   "source": [
    "resultados = pd.DataFrame({\n",
    "    'Modelo': ['Linear', 'RF', 'RF sem outliers', 'GB'],\n",
    "    'MAE':    [mae,     mae_rf,      mae_o,            mae_gb],\n",
    "    'RMSE':   [rmse,    rmse_rf,     rmse_o,           rmse_gb],\n",
    "    'R2':     [r2,      r2_rf,       r2_o,             r2_gb]\n",
    "})\n",
    "display(resultados.style.format({'MAE': '{:.2f}', 'RMSE': '{:.2f}', 'R2': '{:.2f}'}))"
   ]
  },
  {
   "cell_type": "code",
   "execution_count": null,
   "id": "88c288b9",
   "metadata": {},
   "outputs": [],
   "source": [
    "importancias = rf_o.feature_importances_\n",
    "nomes_feats = X_train_f.columns\n",
    "feat_imp = pd.Series(importancias, index=nomes_feats).sort_values(ascending=False).head(10)\n",
    "plt.figure(figsize=(8,6))\n",
    "feat_imp.plot(kind='bar')\n",
    "plt.title('Top 10 Features mais relevantes (RF sem outliers)')\n",
    "plt.ylabel('Importância')\n",
    "plt.tight_layout()\n",
    "plt.show()"
   ]
  }
 ],
 "metadata": {
  "language_info": {
   "name": "python"
  }
 },
 "nbformat": 4,
 "nbformat_minor": 5
}
